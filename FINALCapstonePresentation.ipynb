{
 "cells": [
  {
   "cell_type": "markdown",
   "id": "8e442a7a",
   "metadata": {
    "slideshow": {
     "slide_type": "slide"
    }
   },
   "source": [
    "<h1>Welcome to our program!<h/3>\n",
    "<h3>This interactive tool displays choropleth maps to aid in visualization of HIV statistics. This program is intended to identify areas within the USA which need further attention in the areas of sexual health and HIV prevention.<h/3>\n",
    "<br>   \n",
    "<small> Created by Tyler Audino, Tikiri Ekanayake, Arlen Gyden, and Quinn Yuan"
   ]
  },
  {
   "cell_type": "code",
   "execution_count": null,
   "id": "c7f6053b",
   "metadata": {
    "slideshow": {
     "slide_type": "slide"
    }
   },
   "outputs": [],
   "source": [
    "#Here are the packages we used\n",
    "import pandas as pd\n",
    "import json #for geojson files\n",
    "import plotly.express as px\n",
    "import statsmodels.api as sm\n",
    "from statsmodels.formula.api import ols\n",
    "import matplotlib.pyplot as plt\n",
    "from scipy.stats import ttest_ind"
   ]
  },
  {
   "cell_type": "markdown",
   "id": "2705670a",
   "metadata": {
    "slideshow": {
     "slide_type": "slide"
    }
   },
   "source": [
    "## Data Cleaning - DO NOT RUN"
   ]
  },
  {
   "cell_type": "code",
   "execution_count": null,
   "id": "0f7f129e",
   "metadata": {
    "slideshow": {
     "slide_type": "slide"
    }
   },
   "outputs": [],
   "source": [
    "#Arlen - I won't run this code because the excel file has already been made \n",
    "#citation: https://www.geeksforgeeks.org/how-to-merge-multiple-excel-files-into-a-single-files-with-python/\n",
    "\n",
    "#specifying the path to excel files\n",
    "path = \"/Users/larry-gyden/Documents/Capstone_Raw_Data/\"\n",
    " \n",
    "#excel files in the path\n",
    "file_list = [path+\"AIDSVu_State_NewDX_2008-1.xlsx\", path+\"AIDSVu_State_NewDX_2009-1.xlsx\",\n",
    "            path+\"AIDSVu_State_NewDX_2010-1.xlsx\", path+\"AIDSVu_State_NewDX_2011-1.xlsx\",\n",
    "            path+\"AIDSVu_State_NewDX_2012.xlsx\", path+\"AIDSVu_State_NewDX_2013.xlsx\",\n",
    "            path+\"AIDSVu_State_NewDX_2014.xlsx\", path+\"AIDSVu_State_NewDX_2015.xlsx\",\n",
    "            path+\"AIDSVu_State_NewDX_2016.xlsx\", path+\"AIDSVu_State_NewDX_2017-1.xlsx\",\n",
    "            path+\"AIDSVu_State_NewDX_2018.xlsx\", path+\"AIDSVu_State_NewDX_2019.xlsx\",\n",
    "            path+\"AIDSVu_State_NewDX_2020.xlsx\"]\n",
    " \n",
    "excl_list = []\n",
    "\n",
    "#iterates through the file list appending each file to one excel sheet\n",
    "for file in file_list:\n",
    "    excl_list.append(pd.read_excel(file))\n",
    "\n",
    "#concatenate all excel files into a single excel sheet\n",
    "excl_merged = pd.concat(excl_list, ignore_index=True)\n",
    " \n",
    "#exports the excel sheet\n",
    "excl_merged.to_excel(path+'Capstone_Raw_Data_Merged.xlsx', index=False)"
   ]
  },
  {
   "cell_type": "markdown",
   "id": "def54212",
   "metadata": {
    "slideshow": {
     "slide_type": "slide"
    }
   },
   "source": [
    "## Map Generator"
   ]
  },
  {
   "cell_type": "code",
   "execution_count": null,
   "id": "b3fe1e12",
   "metadata": {
    "slideshow": {
     "slide_type": "fragment"
    }
   },
   "outputs": [],
   "source": [
    "#loading JSON file for map outline \n",
    "#JSON file source: https://www.kaggle.com/datasets/pompelmo/usa-states-geojson?resource=download \n",
    "usamaps = json.load(open(\"us-states.json\", 'r'))"
   ]
  },
  {
   "cell_type": "code",
   "execution_count": null,
   "id": "e3026517",
   "metadata": {
    "slideshow": {
     "slide_type": "fragment"
    }
   },
   "outputs": [],
   "source": [
    "#creating dataframe of excel sheet\n",
    "data = pd.read_excel(\"capstonedata.xlsx\")"
   ]
  },
  {
   "cell_type": "code",
   "execution_count": null,
   "id": "512cf780",
   "metadata": {
    "slideshow": {
     "slide_type": "fragment"
    }
   },
   "outputs": [],
   "source": [
    "#displays headers, and confirms that the data was imported sucessfully\n",
    "data.head()"
   ]
  },
  {
   "cell_type": "code",
   "execution_count": null,
   "id": "f24eaacc",
   "metadata": {
    "slideshow": {
     "slide_type": "slide"
    }
   },
   "outputs": [],
   "source": [
    "#Tyler\n",
    "def branchmenu():\n",
    "    \n",
    "    \"Returns the name of the column from the dataframe based on the user's inputs for parameters\"\n",
    "    \n",
    "    print(\"We have data in regards to gender, race, age, and transmission.\")\n",
    "    print(\"You can select up to two parameters at a time.\") #only two parameters because available data is limited to this\n",
    "    \n",
    "    parameters = selection() #parameters is a list of parameters determined by the selection function\n",
    "    narrowedlist = []  #for narrowing down to the column headers that align with the user input\n",
    "    narrowedlist2 = []\n",
    "    headerlist = list(data.columns.values) #list of header values for use with for loop\n",
    "    headerlist2 = [] #list for getting rid of stability when 'rate' is chose\n",
    "    datatype = datatypemenu() #menu to ask person what data type they want to look at \n",
    "    \n",
    "    if datatype == 'Rate':\n",
    "        for header in headerlist:\n",
    "            if 'Stability' not in header:\n",
    "                headerlist2.append(header)\n",
    "    else: \n",
    "        headerlist2 = headerlist\n",
    "            \n",
    "    if len(parameters) != 0:\n",
    "        for header in headerlist2: #identify columns that fit these first parameter\n",
    "            if parameters[0] in header: #iterate through the column names to find if\n",
    "                narrowedlist.append(header)      \n",
    "    \n",
    "    if len(parameters) == 2:\n",
    "        for header in narrowedlist:\n",
    "            if parameters[1] in header:\n",
    "                narrowedlist2.append(header)\n",
    "    \n",
    "    \n",
    "    finalselection = []    \n",
    "        \n",
    "    if len(narrowedlist2) != 0:  #narrowing down when 2 parameters chosen\n",
    "        for header in narrowedlist2:\n",
    "            if datatype in header:\n",
    "                finalselection.append(header)\n",
    "    else:   #narrowing down when 1 parameter chosen\n",
    "        newlist = []\n",
    "        for header in narrowedlist:\n",
    "            if 'and' not in header:\n",
    "                newlist.append(header)    \n",
    "        for header in newlist:   \n",
    "            if datatype in header:\n",
    "                finalselection.append(header)\n",
    "                \n",
    "    if len(parameters) == 0: #when no parameters chosen (aka \"ALL\")            \n",
    "        finalselection.clear() \n",
    "        if datatype == \"Cases\":\n",
    "            finalselection.append(\"New Diagnoses State Cases\")\n",
    "        elif datatype == \"Rate\":\n",
    "            finalselection.append(\"New Diagnoses State Rate\")\n",
    "    \n",
    "    if len(finalselection) > 1:\n",
    "        finalselection = uhohparameters(finalselection)\n",
    "    else:     \n",
    "        finalselection = str(finalselection[0])\n",
    "        \n",
    "    print(finalselection)    \n",
    "    \n",
    "    return finalselection\n",
    "    \n",
    "\n"
   ]
  },
  {
   "cell_type": "code",
   "execution_count": null,
   "id": "a3fac085",
   "metadata": {
    "slideshow": {
     "slide_type": "slide"
    }
   },
   "outputs": [],
   "source": [
    "#Tyler\n",
    "def selection():\n",
    "    selectionlist = []\n",
    "    \n",
    "    #indicates how many parameters are chosen at a given moment\n",
    "    selectioncounter = 0 \n",
    "    \n",
    "    #gender\n",
    "    selectsex = input(\"Would you like to look at a specific sex? (Type Y or N): \")\n",
    "\n",
    "    while selectioncounter != 2: \n",
    "        if selectsex == 'Y' or selectsex == 'y':\n",
    "            #set equal to gender variable\n",
    "            sex = sexmenu()\n",
    "            selectioncounter += 1\n",
    "            selectionlist.append(sex)\n",
    "            \n",
    "        #race\n",
    "        selectrace = input(\"Would you like to look at a specific race? (Type Y or N): \")\n",
    "\n",
    "        if selectrace == 'Y' or selectrace == 'y':\n",
    "            #set equal to race variable\n",
    "            race = racemenu() \n",
    "            selectioncounter += 1\n",
    "            selectionlist.append(race)\n",
    "        \n",
    "        if selectioncounter == 2:\n",
    "            break\n",
    "            \n",
    "        #age\n",
    "        selectage = input(\"Would you like to look at a specific age range? (Type Y or N): \")\n",
    "\n",
    "        if selectage == 'Y' or selectage == 'y':\n",
    "            age = agemenu() #set equal to age variable\n",
    "            selectioncounter += 1\n",
    "            selectionlist.append(age)\n",
    "       \n",
    "        if selectioncounter == 2:\n",
    "            break \n",
    "            \n",
    "        #transmission\n",
    "        selecttrans = input(\"Would you like to look at a specific transmission type? (Type Y or N): \")\n",
    "\n",
    "        if selecttrans == 'Y' or selectage == 'y':\n",
    "            transmission = transmissionmenu()\n",
    "            selectioncounter += 1\n",
    "            selectionlist.append(transmission)\n",
    "            \n",
    "        break\n",
    "            \n",
    "    return selectionlist\n",
    "        "
   ]
  },
  {
   "cell_type": "code",
   "execution_count": null,
   "id": "3fa67790",
   "metadata": {
    "slideshow": {
     "slide_type": "slide"
    }
   },
   "outputs": [],
   "source": [
    "#Arlen\n",
    "def racemenu():\n",
    "    \"Identifies user's parameter selection for race\"\n",
    "    raceselection = str(input(\"Select from the following races: Black, White, Hispanic, Asian, American Indian/Alaska Native, Native Hawaiian/Other Pacific Islander, Multiracial: \"))\n",
    "    \n",
    "    while raceselection != \"Black\" and raceselection != \"White\" and raceselection != \"Hispanic\" and raceselection != \"Asian\" and raceselection != \"American Indian/Alaska Native\" and raceselection != \"Native Hawaiian/Other Pacific Islander\" and raceselection != \"Multiracial\":\n",
    "        raceselection = input(\"Oops! You did not correctly type your selection. \")\n",
    "    \n",
    "    return raceselection"
   ]
  },
  {
   "cell_type": "code",
   "execution_count": null,
   "id": "60c472c9",
   "metadata": {
    "slideshow": {
     "slide_type": "fragment"
    }
   },
   "outputs": [],
   "source": [
    "#Arlen\n",
    "def agemenu():\n",
    "    \"Identifies user's parameter selection for age\"\n",
    "    ageselection = str(input(\"Select from the following age groups: 13-24, 25-34, 35-44, 45-54, 55+ \"))\n",
    "    while ageselection != \"13-24\" and ageselection != \"25-34\" and ageselection != \"35-44\" and ageselection != \"45-54\" and ageselection != \"55+\":\n",
    "        ageselection = input(\"Oops! You did not correctly type your selection. \")\n",
    "    return ageselection"
   ]
  },
  {
   "cell_type": "code",
   "execution_count": null,
   "id": "22d7203c",
   "metadata": {
    "slideshow": {
     "slide_type": "fragment"
    }
   },
   "outputs": [],
   "source": [
    "#Arlen\n",
    "def sexmenu():\n",
    "    \"Identifies user's parameter selection for sex\"\n",
    "    sexselection = str(input(\"Select which sex: Male, Female \"))\n",
    "    while sexselection != \"Male\" and sexselection != \"Female\":\n",
    "        sexselection = input(\"Oops! You did not correctly type your selection. \")\n",
    "    return sexselection"
   ]
  },
  {
   "cell_type": "code",
   "execution_count": null,
   "id": "7f4bfbcd",
   "metadata": {
    "slideshow": {
     "slide_type": "slide"
    }
   },
   "outputs": [],
   "source": [
    "#Tyler \n",
    "def transmissionmenu():\n",
    "    \n",
    "    \"Identifies user's parameter selection for transmission type\"\n",
    "    \n",
    "    tselection = str(input(\"Select which transmission type: Heterosexual Contact, IDU, MSM, Other \"))\n",
    "    while tselection != \"Heterosexual Contact\" and tselection != \"IDU\" and tselection != \"MSM\" and tselection != \"Other\":\n",
    "        tselection = input(\"Oops! You did not correctly type your selection. \")\n",
    "    return tselection"
   ]
  },
  {
   "cell_type": "code",
   "execution_count": null,
   "id": "bdb5d906",
   "metadata": {
    "slideshow": {
     "slide_type": "fragment"
    }
   },
   "outputs": [],
   "source": [
    "#Arlen\n",
    "def datatypemenu():\n",
    "    typeselection = input(\"Select from the following forms of data: Cases, Rate \")\n",
    "    while typeselection != \"Cases\" and typeselection != \"Rate\":\n",
    "        typeselection = input(\"Oops! You did not correctly type your selection. \")\n",
    "    return typeselection"
   ]
  },
  {
   "cell_type": "code",
   "execution_count": null,
   "id": "2311714c",
   "metadata": {
    "slideshow": {
     "slide_type": "slide"
    }
   },
   "outputs": [],
   "source": [
    "#Tyler\n",
    "def uhohparameters(oldheaders):\n",
    "    \n",
    "    \"For use when the program narrows down the header names to more than one header\"\n",
    "    \n",
    "    print(\"Oops! Our program found two possible datasets.\")\n",
    "    print(\"Your options are: \" + str(oldheaders))\n",
    "    newheader = input(\"Please type the name of the dataset EXACTLY as displayed (no quotation marks): \")\n",
    "    while newheader != oldheaders[0] and newheader != oldheaders[1]:\n",
    "        newheader = input(\"Oops! You did not correctly type your selection. \")\n",
    "        \n",
    "    return newheader"
   ]
  },
  {
   "cell_type": "code",
   "execution_count": null,
   "id": "ec0e65b0",
   "metadata": {
    "slideshow": {
     "slide_type": "slide"
    }
   },
   "outputs": [],
   "source": [
    "#Arlen\n",
    "class maps():\n",
    "    \n",
    "    \"Generates a map with specified dataset\"\n",
    "    \n",
    "    def __init__(figure, dataframe, locations, geojson, color, scope):\n",
    "        figure.dataframe = dataframe\n",
    "        figure.color = color\n",
    "        figure.locations = locations\n",
    "        figure.geojson = geojson\n",
    "        figure.scope = scope\n",
    "    \n",
    "    def generatemap(figure):\n",
    "        px.choropleth(figure.dataframe, color = figure.color, locations = figure.locations, \n",
    "                      scope = figure.scope, geojson = figure.geojson).show(\"notebook\")\n",
    "        \n",
    "    def animatemap(figure):\n",
    "        px.choropleth(figure.dataframe, color = figure.color, locations = figure.locations, \n",
    "                      scope = figure.scope, geojson = figure.geojson, \n",
    "                      animation_frame = 'Year').show(\"notebook\")"
   ]
  },
  {
   "cell_type": "code",
   "execution_count": null,
   "id": "cf89086d",
   "metadata": {
    "slideshow": {
     "slide_type": "slide"
    }
   },
   "outputs": [],
   "source": [
    "#Arlen\n",
    "def dataskip(colordata, states = False):\n",
    "    \n",
    "    \"Iterates through user's selection column and skips unusable data points\"\n",
    "    \n",
    "    #converts raw data into numpy array\n",
    "    rawdata = data[[\"Year\", \"State Abbreviation\", colordata]].to_numpy()\n",
    "    usabledata = []\n",
    "    \n",
    "    #iterates through array and skips any unusable data types\n",
    "    for datapoint in range(len(rawdata)):\n",
    "        if type(rawdata[datapoint, 2]) == str or rawdata[datapoint, 2] <= 0:\n",
    "            continue\n",
    "        usabledata.append(rawdata[datapoint, :])\n",
    "    \n",
    "    #converts numpy array back to dataframe of the usable data\n",
    "    return pd.DataFrame(usabledata, columns = [\"Year\", \"State Abbreviation\", colordata])"
   ]
  },
  {
   "cell_type": "code",
   "execution_count": null,
   "id": "ba35a660",
   "metadata": {
    "slideshow": {
     "slide_type": "slide"
    }
   },
   "outputs": [],
   "source": [
    "#Arlen\n",
    "def mapselect(generate = True, animate = True):\n",
    "    \"User's function that allows them to select parameters and generate desired map\"\n",
    "    data = dataskip(branchmenu())\n",
    "    columnnames = list(data.columns)\n",
    "    \n",
    "    #specify user inputs to maps class from branch menu and dataskip functions\n",
    "    mapchoice = maps(data, locations = columnnames[1], geojson = usamaps,  \n",
    "                     color = columnnames[2], scope = \"usa\")\n",
    "    \n",
    "    if generate == True and animate == False:\n",
    "        return mapchoice.generatemap()\n",
    "    \n",
    "    if generate == True and animate == True:\n",
    "        return mapchoice.animatemap()"
   ]
  },
  {
   "cell_type": "code",
   "execution_count": null,
   "id": "79cb48fd",
   "metadata": {
    "slideshow": {
     "slide_type": "slide"
    }
   },
   "outputs": [],
   "source": [
    "mapselect()"
   ]
  },
  {
   "cell_type": "markdown",
   "id": "15695ffb",
   "metadata": {
    "slideshow": {
     "slide_type": "slide"
    }
   },
   "source": [
    "## ANOVA - Tikiri"
   ]
  },
  {
   "cell_type": "code",
   "execution_count": null,
   "id": "670123de",
   "metadata": {
    "slideshow": {
     "slide_type": "slide"
    }
   },
   "outputs": [],
   "source": [
    "# reading the data frame in\n",
    "dataset = pd.read_excel('anova_data_frame.xlsx')"
   ]
  },
  {
   "cell_type": "code",
   "execution_count": null,
   "id": "df64d602",
   "metadata": {
    "slideshow": {
     "slide_type": "slide"
    }
   },
   "outputs": [],
   "source": [
    "menu = '1. gender_age\\n' \\\n",
    "       '2. gender_race\\n' \\\n",
    "       '3. gender_transmission\\n' \\\n",
    "       '4. transmission_age\\n' \\\n",
    "       '5. transmission_race\\n' \\\n",
    "       '6. age_race\\n'\n",
    "\n",
    "print(menu)\n",
    "\n",
    "\n",
    "\n",
    "# asking for choice input + making sure it is a valid answer\n",
    "choice = input('Select which categories to compare: ')\n",
    "\n",
    "while (choice != 'gender_age') and (choice != 'gender_race') and (choice != 'gender_transmission') and (choice != 'transmission_age') and (choice != 'transmission_race') and (choice != 'age_race'):\n",
    "    print('Invalid choice.')\n",
    "    choice = input('Select which categories to compare: ')\n",
    "\n",
    "\n",
    "    \n",
    "# asking for year input + making sure it is a valid answer\n",
    "print('Select a year to look at from 2008-2020. Type 0 to use all the data.')\n",
    "year = int(input('Year: '))\n",
    "\n",
    "while (year != 0) and (2020 < year) and (year < 2008):\n",
    "    print('Invalid year.')\n",
    "    year = int(input('Year: '))\n",
    "\n",
    "    \n",
    "\n",
    "# seeing if I need to specify a certain year w/in the dataset, or use the whole thing\n",
    "if year != 0:\n",
    "    observed_year = dataset[(dataset['Year'] == year)]\n",
    "elif year == 0 :\n",
    "    observed_year = dataset\n",
    "        \n",
    "\n",
    "\n",
    "# which cases w/in the dataset to look at it\n",
    "dependent = choice + '_cases'\n",
    "    # ex: gender_age_cases\n",
    "\n",
    "    \n",
    "\n",
    "# specifying name of the first column for the category\n",
    "categories = choice.split('_')\n",
    "first_iv = [categories[0], categories[0], categories[1]]\n",
    "first_iv = '_'.join(first_iv)\n",
    "    # ex: gender_gender_age\n",
    "\n",
    "\n",
    "    \n",
    "# second column name\n",
    "second_iv = [categories[1], categories[0], categories[1]]\n",
    "second_iv = '_'.join(second_iv)\n",
    "    # ex: age_gender_age\n",
    "    \n",
    "\n",
    "\n",
    "# the string that goes w/in the first ols argument\n",
    "the_stuffing = f'{dependent} ~ C({first_iv}) + C({second_iv}) +\\\n",
    "C({first_iv}):C({second_iv})'\n",
    "\n",
    "\n",
    "\n",
    "# code for the actual anova table\n",
    "model = ols(the_stuffing,\n",
    "           data = observed_year).fit()\n",
    "result = sm.stats.anova_lm(model, type = 2)\n",
    "\n",
    "\n",
    "\n",
    "print(result)\n",
    "print('\\n\\n')\n",
    "print('If the PR(>F) value [aka the P-value] is less than 0.05, then that factor has a statistically significant effect' \\\n",
    "      ' on the data.')\n",
    "print('The C(factor):C(factor) row provides information on the interaction between the two factors.')"
   ]
  },
  {
   "cell_type": "markdown",
   "id": "2b333c1e",
   "metadata": {
    "slideshow": {
     "slide_type": "slide"
    }
   },
   "source": [
    "## T-Test - Quinn"
   ]
  },
  {
   "cell_type": "code",
   "execution_count": null,
   "id": "3d98ef68",
   "metadata": {
    "slideshow": {
     "slide_type": "slide"
    }
   },
   "outputs": [],
   "source": [
    "#just displaying the merged data excel sheet\n",
    "pd.read_excel('capstonedata.xlsx')"
   ]
  },
  {
   "cell_type": "code",
   "execution_count": null,
   "id": "57f9448d",
   "metadata": {
    "slideshow": {
     "slide_type": "fragment"
    }
   },
   "outputs": [],
   "source": [
    "#reading the excel sheet into a pandas DataFrame\n",
    "df = pd.read_excel('capstonedata.xlsx')"
   ]
  },
  {
   "cell_type": "code",
   "execution_count": null,
   "id": "7db55c63",
   "metadata": {
    "slideshow": {
     "slide_type": "slide"
    }
   },
   "outputs": [],
   "source": [
    "#T-test between variables \n",
    "choice = input('Select a state to compare new Diagnoses male and female cases: ')\n",
    "\n",
    "#cleaning the data by the state assigned according to user's input state\n",
    "state = df[(df['State'] == choice)]\n",
    "\n",
    "#The actual t-test calculations\n",
    "sample1 = state['New Diagnoses Male Cases']\n",
    "sample2 = state['New Diagnoses Female Cases']\n",
    "ttest_result = ttest_ind(sample1, sample2)\n",
    "\n",
    "print(ttest_result)\n",
    "\n",
    "#extracting the p-value from the scipy result \n",
    "pvalue = ttest_result.pvalue\n",
    "\n",
    "#displaying an analysis according to the t-value and the p-value\n",
    "if(pvalue<0.05):\n",
    "    #reject the null hypothesis - there is statistically \n",
    "    #significant difference between the samples\n",
    "    print(\"Since the P-value is smaller than the alpha value (0.05), there is statistically significant difference \" \\\n",
    "          \"between the  samples you chosen\")\n",
    "elif (pvalue>0.05):\n",
    "    #fall to reject the null hypothesis - there is NO statistically \n",
    "    #significant difference between the samples \n",
    "    print(\"Since the T-value is larger than the alpha value (0.05), there is NO statistically significant \" \\\n",
    "          \"difference between the samples you chosen\")\n",
    "else: \n",
    "    print(\"Your selecting data is invalid for T-test calculation\")\n",
    "    "
   ]
  },
  {
   "cell_type": "code",
   "execution_count": null,
   "id": "02336781",
   "metadata": {
    "slideshow": {
     "slide_type": "subslide"
    }
   },
   "outputs": [],
   "source": [
    "#displaying box plot graph\n",
    "\n",
    "#cleaning the data for the box plot\n",
    "da = state[[\"New Diagnoses Male Cases\", \"New Diagnoses Female Cases\"]]\n",
    "\n",
    "#graphing\n",
    "plt.figure(figsize=(7, 7, ))\n",
    "graph = plt.boxplot(da)\n",
    "plt.xticks([1, 2], [\"New Diagnoses Male Cases\", \"New Diagnoses Female Cases\"])\n",
    "\n",
    "plt.show()"
   ]
  }
 ],
 "metadata": {
  "celltoolbar": "Slideshow",
  "kernelspec": {
   "display_name": "Python 3 (ipykernel)",
   "language": "python",
   "name": "python3"
  },
  "language_info": {
   "codemirror_mode": {
    "name": "ipython",
    "version": 3
   },
   "file_extension": ".py",
   "mimetype": "text/x-python",
   "name": "python",
   "nbconvert_exporter": "python",
   "pygments_lexer": "ipython3",
   "version": "3.9.12"
  }
 },
 "nbformat": 4,
 "nbformat_minor": 5
}
